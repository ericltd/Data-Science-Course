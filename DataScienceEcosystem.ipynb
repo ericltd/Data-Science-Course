{
 "cells": [
  {
   "cell_type": "markdown",
   "id": "ab8e05a6-28ff-4879-9abb-5b2a63b456d2",
   "metadata": {},
   "source": [
    "# DataScienceEcosystem"
   ]
  },
  {
   "cell_type": "markdown",
   "id": "daafa984-d9e8-4580-9220-ce5b32541f38",
   "metadata": {},
   "source": [
    "**Author**"
   ]
  },
  {
   "cell_type": "markdown",
   "id": "41b13f5d-f4c9-4ab3-b1b6-cdc5b1c5f620",
   "metadata": {},
   "source": [
    "Eric Whitehead"
   ]
  },
  {
   "cell_type": "markdown",
   "id": "986a33e2-c364-40b4-90d6-1992a41701d2",
   "metadata": {},
   "source": [
    "In this notebook, Data Science Tools and Ecosystem are summarized."
   ]
  },
  {
   "cell_type": "markdown",
   "id": "6df1f078-4216-42ac-8c3d-5561a2801130",
   "metadata": {},
   "source": [
    "**Objectives:**"
   ]
  },
  {
   "cell_type": "markdown",
   "id": "ebd8c61b-315a-4514-9f8d-a289a83b9e30",
   "metadata": {},
   "source": [
    "- List some popular languages used in data science.\n",
    "- List commonly used librararies for data science.\n",
    "- List some popular IDEs that are used in data science "
   ]
  },
  {
   "cell_type": "markdown",
   "id": "b627b486-ed28-4f41-bad9-367d67e5dee9",
   "metadata": {},
   "source": [
    "Some of the popular languages that Data Scientists use are:"
   ]
  },
  {
   "cell_type": "markdown",
   "id": "2c2e9e96-26e8-420e-a4d3-e1f0069d75fb",
   "metadata": {},
   "source": [
    "1. Python\n",
    "2. R\n",
    "3. SQL"
   ]
  },
  {
   "cell_type": "markdown",
   "id": "2166deb0-08a2-43eb-aba0-ce674112c141",
   "metadata": {},
   "source": [
    "Some of the commonly used libraries used by Data Scientists include:"
   ]
  },
  {
   "cell_type": "markdown",
   "id": "a5c83823-c7d8-4565-aa4c-1c1c1915066d",
   "metadata": {},
   "source": [
    "1. Pandas\n",
    "2. ggplot\n",
    "3. matplotlib\n"
   ]
  },
  {
   "cell_type": "markdown",
   "id": "d6251229-72ee-4fed-9382-dc9a7807af8e",
   "metadata": {},
   "source": [
    "| Data Science Tools |\n",
    "|:------------------:|\n",
    "| Spyder             |\n",
    "| JupyterLab         |\n",
    "| DataLab            |"
   ]
  },
  {
   "cell_type": "markdown",
   "id": "a1c256a7-19ed-48cc-9fba-3116947b69bb",
   "metadata": {},
   "source": [
    "### Below are a few examples of evaluating arithmetic expressions in Python"
   ]
  },
  {
   "cell_type": "markdown",
   "id": "1f551d17-24a9-449d-ac3a-06f08391874b",
   "metadata": {},
   "source": [
    "#This a simple arithmetic expression to mutiply then add integers."
   ]
  },
  {
   "cell_type": "code",
   "execution_count": 6,
   "id": "db1f9e82-25d0-46e0-a218-48ff0de50cff",
   "metadata": {},
   "outputs": [
    {
     "data": {
      "text/plain": [
       "17"
      ]
     },
     "execution_count": 6,
     "metadata": {},
     "output_type": "execute_result"
    }
   ],
   "source": [
    "(3*4)+5"
   ]
  },
  {
   "cell_type": "markdown",
   "id": "c894d258-46e6-487f-8c21-c334bf494cc1",
   "metadata": {},
   "source": [
    "#This will convert 200 minutes to hours by diving by 60."
   ]
  },
  {
   "cell_type": "code",
   "execution_count": 8,
   "id": "231d20df-ed36-4cd3-b103-99dec6abcc90",
   "metadata": {},
   "outputs": [
    {
     "data": {
      "text/plain": [
       "3.3333333333333335"
      ]
     },
     "execution_count": 8,
     "metadata": {},
     "output_type": "execute_result"
    }
   ],
   "source": [
    "200 / 60"
   ]
  },
  {
   "cell_type": "code",
   "execution_count": null,
   "id": "d913f1a2-e4b9-4d96-bcc0-dc3551aa9cb4",
   "metadata": {},
   "outputs": [],
   "source": []
  }
 ],
 "metadata": {
  "kernelspec": {
   "display_name": "Python [conda env:base] *",
   "language": "python",
   "name": "conda-base-py"
  },
  "language_info": {
   "codemirror_mode": {
    "name": "ipython",
    "version": 3
   },
   "file_extension": ".py",
   "mimetype": "text/x-python",
   "name": "python",
   "nbconvert_exporter": "python",
   "pygments_lexer": "ipython3",
   "version": "3.13.5"
  }
 },
 "nbformat": 4,
 "nbformat_minor": 5
}
